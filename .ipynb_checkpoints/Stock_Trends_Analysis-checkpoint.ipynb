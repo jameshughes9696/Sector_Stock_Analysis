{
 "cells": [
  {
   "cell_type": "code",
   "execution_count": 4,
   "id": "7576e8f5-e8de-400b-b5a7-4794e4ebb6f2",
   "metadata": {},
   "outputs": [],
   "source": [
    "# Installing relevant packages\n",
    "\n",
    "import pandas as pd\n",
    "import yfinance as yf\n",
    "import matplotlib.pyplot as plt\n",
    "import seaborn as sns"
   ]
  },
  {
   "cell_type": "code",
   "execution_count": 5,
   "id": "3568a61d-8561-404e-9c30-0e0b64071a1c",
   "metadata": {},
   "outputs": [],
   "source": [
    "# Setting the seaborn style to whitegrid for visibility\n",
    "\n",
    "sns.set(style=\"whitegrid\")"
   ]
  },
  {
   "cell_type": "code",
   "execution_count": 7,
   "id": "6b4d6c47-3678-4069-9247-9c488de8643c",
   "metadata": {},
   "outputs": [],
   "source": [
    "# Creating a list called tickers using 50 popular stocks\n",
    "\n",
    "tickers = [\n",
    "    'AAPL', 'MSFT', 'AMZN', 'GOOGL', 'FB', 'TSLA', 'BRK-B', 'NVDA', 'JPM', 'JNJ',\n",
    "    'V', 'PG', 'UNH', 'HD', 'MA', 'DIS', 'BAC', 'XOM', 'VZ', 'ADBE',\n",
    "    'NFLX', 'PYPL', 'CMCSA', 'KO', 'PFE', 'PEP', 'T', 'CSCO', 'ABT', 'CVX',\n",
    "    'CRM', 'INTC', 'WMT', 'NKE', 'MRK', 'COST', 'ORCL', 'ACN', 'MDT', 'DHR',\n",
    "    'MCD', 'TXN', 'NEE', 'LIN', 'LOW', 'AMGN', 'BMY', 'HON', 'QCOM', 'IBM'\n",
    "]"
   ]
  },
  {
   "cell_type": "code",
   "execution_count": 8,
   "id": "c2a6e216-4410-4587-889c-19ccecdd5235",
   "metadata": {},
   "outputs": [],
   "source": [
    "# Defining a timeframe for the analysis\n",
    "\n",
    "start_date = '2020-01-01'\n",
    "end_date = '2024-12-31'"
   ]
  },
  {
   "cell_type": "code",
   "execution_count": 9,
   "id": "2de0c785-185e-4a71-8c21-27a155ccc486",
   "metadata": {},
   "outputs": [
    {
     "name": "stderr",
     "output_type": "stream",
     "text": [
      "/var/folders/_5/tw_5p6m57vz535v16c0sw48h0000gn/T/ipykernel_58466/2515206215.py:5: FutureWarning: YF.download() has changed argument auto_adjust default to True\n",
      "  data = yf.download(tickers, start=start_date, end=end_date)['Adj Close']\n",
      "[*********************100%***********************]  50 of 50 completed\n",
      "\n",
      "2 Failed downloads:\n",
      "['AMZN']: OperationalError('database is locked')\n",
      "['FB']: YFTzMissingError('possibly delisted; no timezone found')\n"
     ]
    }
   ],
   "source": [
    "# Downloading the data from yahoo finance, and aligning it with the 'tickers' variable.\n",
    "# Here, we are only using the variable 'Adjusted Close', as it is the fairest way to \n",
    "# compare historical stock prices\n",
    "\n",
    "data = yf.download(tickers, start=start_date, end=end_date)['Adj Close']"
   ]
  },
  {
   "cell_type": "code",
   "execution_count": null,
   "id": "687261a2-b4ec-4de4-933d-2e30b98a03ec",
   "metadata": {},
   "outputs": [],
   "source": [
    "# yfinance library cash cleared locally to sort the AMZN failure. FB changed to 'META'. "
   ]
  }
 ],
 "metadata": {
  "kernelspec": {
   "display_name": "Python 3 (ipykernel)",
   "language": "python",
   "name": "python3"
  },
  "language_info": {
   "codemirror_mode": {
    "name": "ipython",
    "version": 3
   },
   "file_extension": ".py",
   "mimetype": "text/x-python",
   "name": "python",
   "nbconvert_exporter": "python",
   "pygments_lexer": "ipython3",
   "version": "3.13.3"
  }
 },
 "nbformat": 4,
 "nbformat_minor": 5
}
